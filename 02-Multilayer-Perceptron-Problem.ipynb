{
 "cells": [
  {
   "cell_type": "markdown",
   "metadata": {},
   "source": [
    "# Multilayer Perceptron: Problem"
   ]
  },
  {
   "cell_type": "markdown",
   "metadata": {},
   "source": [
    "## 0. 모듈 불러오기"
   ]
  },
  {
   "cell_type": "code",
   "execution_count": null,
   "metadata": {},
   "outputs": [],
   "source": [
    "''' 기본 모듈 및 시각화 모듈 '''\n",
    "from IPython.display import display\n",
    "import pandas as pd\n",
    "import seaborn as sns\n",
    "import matplotlib.pyplot as plt\n",
    "\n",
    "''' 데이터 전처리 모듈 '''\n",
    "from sklearn.preprocessing import StandardScaler\n",
    "from sklearn.model_selection import train_test_split\n",
    "\n",
    "''' Multilayer Perceptron 모듈 '''\n",
    "from sklearn.neural_network import MLPClassifier\n",
    "\n",
    "''' 결과 평가용 모듈 '''\n",
    "from sklearn.metrics import confusion_matrix, accuracy_score, f1_score, precision_score, recall_score\n",
    "\n",
    "''' 기타 optional'''\n",
    "pd.options.display.float_format = '{:.4f}'.format\n",
    "\n",
    "! git colne https://github.com/KU-DIC/LG_time_series_day08.git"
   ]
  },
  {
   "cell_type": "markdown",
   "metadata": {},
   "source": [
    "## 1. 데이터 불러오기\n",
    "### StarCraft 분류 문제\n",
    "<a href='https://archive.ics.uci.edu/ml/datasets/SkillCraft1+Master+Table+Dataset'> https://archive.ics.uci.edu/ml/datasets/SkillCraft1+Master+Table+Dataset </a>"
   ]
  },
  {
   "cell_type": "markdown",
   "metadata": {},
   "source": [
    "### 설명변수 (X)\n",
    "- 1. GameID: Unique ID number for each game (integer)\n",
    "- 3. Age: Age of each player (integer)\n",
    "- 4. HoursPerWeek: Reported hours spent playing per week (integer)\n",
    "- 5. TotalHours: Reported total hours spent playing (integer)\n",
    "- 6. APM: Action per minute (continuous)\n",
    "- 7. SelectByHotkeys: Number of unit or building selections made using hotkeys per timestamp (continuous)\n",
    "- 8. AssignToHotkeys: Number of units or buildings assigned to hotkeys per timestamp (continuous)\n",
    "- 9. UniqueHotkeys: Number of unique hotkeys used per timestamp (continuous)\n",
    "- 10. MinimapAttacks: Number of attack actions on minimap per timestamp (continuous)\n",
    "- 11. MinimapRightClicks: number of right-clicks on minimap per timestamp (continuous)\n",
    "- 12. NumberOfPACs: Number of PACs per timestamp (continuous)\n",
    "- 13. GapBetweenPACs: Mean duration in milliseconds between PACs (continuous)\n",
    "- 14. ActionLatency: Mean latency from the onset of a PACs to their first action in milliseconds (continuous)\n",
    "- 15. ActionsInPAC: Mean number of actions within each PAC (continuous)\n",
    "- 16. TotalMapExplored: The number of 24x24 game coordinate grids viewed by the player per timestamp (continuous)\n",
    "- 17. WorkersMade: Number of SCVs, drones, and probes trained per timestamp (continuous)\n",
    "- 18. UniqueUnitsMade: Unique unites made per timestamp (continuous)\n",
    "- 19. ComplexUnitsMade: Number of ghosts, infestors, and high templars trained per timestamp (continuous)\n",
    "- 20. ComplexAbilitiesUsed: Abilities requiring specific targeting instructions used per timestamp (continuous)\n",
    "\n",
    "### 반응변수 (Y)\n",
    "- 2. LeagueIndex: Bronze, Silver, Gold, Platinum, Diamond, Master, GrandMaster, and Professional leagues coded 1-8 (Ordinal)"
   ]
  },
  {
   "cell_type": "code",
   "execution_count": null,
   "metadata": {
    "scrolled": true
   },
   "outputs": [],
   "source": [
    "data = pd.read_csv('./LG_time_series_day08/data/SkillCraft1_Dataset.csv')"
   ]
  },
  {
   "cell_type": "markdown",
   "metadata": {},
   "source": [
    "## 2. 데이터 전처리하기"
   ]
  },
  {
   "cell_type": "markdown",
   "metadata": {},
   "source": [
    "### 데이터 확인"
   ]
  },
  {
   "cell_type": "code",
   "execution_count": null,
   "metadata": {},
   "outputs": [],
   "source": [
    "print('Data shape: {}'.format(data.'''Answer'''))\n",
    "data.head()"
   ]
  },
  {
   "cell_type": "markdown",
   "metadata": {},
   "source": [
    "### Column별 기초 통계량 확인"
   ]
  },
  {
   "cell_type": "code",
   "execution_count": null,
   "metadata": {},
   "outputs": [],
   "source": [
    "data.'''Answer'''"
   ]
  },
  {
   "cell_type": "markdown",
   "metadata": {},
   "source": [
    "### 불필요한 변수 제거"
   ]
  },
  {
   "cell_type": "code",
   "execution_count": null,
   "metadata": {},
   "outputs": [],
   "source": [
    "# GameID 고유 개수\n",
    "num_id = len(data['''Answer'''].unique())\n",
    "\n",
    "print(f'ID: {num_id}')"
   ]
  },
  {
   "cell_type": "code",
   "execution_count": null,
   "metadata": {},
   "outputs": [],
   "source": [
    "# GameID 제거\n",
    "data.drop(columns=['''Answer'''], axis=1, inplace=True)"
   ]
  },
  {
   "cell_type": "code",
   "execution_count": null,
   "metadata": {},
   "outputs": [],
   "source": [
    "print('Data shape: {}'.format(data.'''Answer'''))\n",
    "data.head()"
   ]
  },
  {
   "cell_type": "markdown",
   "metadata": {},
   "source": [
    "### 반응변수(Y)의 클래스 비율 확인\n",
    "1: 브론즈<br>\n",
    "2: 실버<br>\n",
    "3: 골드<br>\n",
    "4: 플래티넘<br>\n",
    "5: 다이아<br>\n",
    "6: 마스터<br>\n",
    "7: 그랜드마스터<br>\n",
    "8: 프로"
   ]
  },
  {
   "cell_type": "code",
   "execution_count": null,
   "metadata": {},
   "outputs": [],
   "source": [
    "data['LeagueIndex'].'''Answer'''"
   ]
  },
  {
   "cell_type": "markdown",
   "metadata": {},
   "source": [
    "### 설명변수(X)와 반응변수(Y) 정의\n",
    "#### 다이아 미만: 0, 다이아 이상: 1로 반응변수(y) 재정의"
   ]
  },
  {
   "cell_type": "code",
   "execution_count": null,
   "metadata": {},
   "outputs": [],
   "source": [
    "X = data.drop(labels='''Answer''', axis=1)\n",
    "y = data['''Answer'''].values\n",
    "\n",
    "# 다이아 미만 : 0, 다이아 이상 : 1로 y 값 조정\n",
    "y[y<5] = 0\n",
    "y[y>=5] = 1"
   ]
  },
  {
   "cell_type": "code",
   "execution_count": null,
   "metadata": {},
   "outputs": [],
   "source": [
    "display(X.head())\n",
    "display(y)"
   ]
  },
  {
   "cell_type": "markdown",
   "metadata": {},
   "source": [
    "### 학습 데이터(Training Dataset)와 테스트 데이터(Testing Dataset) 분리\n",
    "- 학습데이터와 테스트 데이터의 클래스 비율이 달라지지 않도록 stratify 옵션 사용"
   ]
  },
  {
   "cell_type": "code",
   "execution_count": null,
   "metadata": {},
   "outputs": [],
   "source": [
    "train_X, test_X, train_y, test_y = train_test_split('''Answer''', '''Answer''', stratify=y, test_size=0.3, random_state=0)"
   ]
  },
  {
   "cell_type": "markdown",
   "metadata": {},
   "source": [
    "### 정규화 : Standardization(표준정규화) with Standard Scaler"
   ]
  },
  {
   "cell_type": "code",
   "execution_count": null,
   "metadata": {},
   "outputs": [],
   "source": [
    "train_X.describe()"
   ]
  },
  {
   "cell_type": "code",
   "execution_count": null,
   "metadata": {},
   "outputs": [],
   "source": [
    "# 정규화\n",
    "scaler = StandardScaler()\n",
    "scaler.fit(train_X)\n",
    "\n",
    "train_X = scaler.transform(train_X)\n",
    "test_X = scaler.transform(test_X)"
   ]
  },
  {
   "cell_type": "code",
   "execution_count": null,
   "metadata": {},
   "outputs": [],
   "source": [
    "pd.DataFrame(train_X, columns = X.columns).describe()"
   ]
  },
  {
   "cell_type": "markdown",
   "metadata": {},
   "source": [
    "## 3. 모델링: Multilayer Perceptron (MLP) Classifier"
   ]
  },
  {
   "cell_type": "code",
   "execution_count": null,
   "metadata": {},
   "outputs": [],
   "source": [
    "clf_mlp = MLPClassifier(hidden_layer_sizes=100,\n",
    "                        activation='''Answer''',\n",
    "                        solver='''Answer''',\n",
    "                        batch_size=64,\n",
    "                        learning_rate_init=0.005,\n",
    "                        max_iter=500,\n",
    "                        verbose=True,\n",
    "                        random_state=0)"
   ]
  },
  {
   "cell_type": "markdown",
   "metadata": {},
   "source": [
    "### MLP Classifier 학습"
   ]
  },
  {
   "cell_type": "code",
   "execution_count": null,
   "metadata": {},
   "outputs": [],
   "source": [
    "clf_mlp.fit('''Answer''', '''Answer''')"
   ]
  },
  {
   "cell_type": "markdown",
   "metadata": {},
   "source": [
    "### 학습 상태 확인 (learning curve)"
   ]
  },
  {
   "cell_type": "code",
   "execution_count": null,
   "metadata": {},
   "outputs": [],
   "source": [
    "plt.figure(figsize=(15, 8))\n",
    "\n",
    "train_loss_values = clf_mlp.loss_curve_\n",
    "plt.plot(train_loss_values,label='Train Loss')\n",
    "\n",
    "plt.legend(fontsize=15)\n",
    "plt.title(\"Learning Curve of trained MLP Classifier\", size=20)\n",
    "plt.show()"
   ]
  },
  {
   "cell_type": "markdown",
   "metadata": {},
   "source": [
    "## 4. Multilayer Perceptron 모델 성능 평가"
   ]
  },
  {
   "cell_type": "markdown",
   "metadata": {},
   "source": [
    "### 학습된 MLP Classifier 결과 확인: Training Data"
   ]
  },
  {
   "cell_type": "code",
   "execution_count": null,
   "metadata": {},
   "outputs": [],
   "source": [
    "# 학습한 데이터에 대한 예측값\n",
    "train_y_pred = clf_mlp.predict('''Answer''')\n",
    "\n",
    "# confusion matrix 계산\n",
    "cm_train = confusion_matrix(y_true=train_y, y_pred=train_y_pred, labels=[1,0])\n",
    "\n",
    "# 시각화\n",
    "plt.figure(figsize=(10, 8))\n",
    "sns.heatmap(data=cm_train, annot=True, fmt='d', annot_kws={'size': 30}, cmap='Blues')\n",
    "plt.xticks(ticks=[0.5,1.5], labels=[1,0], size=15)\n",
    "plt.yticks(ticks=[0.5,1.5], labels=[1,0], size=15)\n",
    "plt.xlabel('Predicted', size=20)\n",
    "plt.ylabel('True', size=20)\n",
    "plt.show()"
   ]
  },
  {
   "cell_type": "markdown",
   "metadata": {},
   "source": [
    "### 학습된 MLP Classifier 결과 확인: Testing Data"
   ]
  },
  {
   "cell_type": "code",
   "execution_count": null,
   "metadata": {},
   "outputs": [],
   "source": [
    "# 테스트 데이터에 대한 예측값\n",
    "test_y_pred = clf_mlp.predict('''Answer''')\n",
    "\n",
    "# confusion matrix 계산\n",
    "cm_test = confusion_matrix(y_true=test_y, y_pred=test_y_pred, labels=[1,0])\n",
    "\n",
    "# 시각화\n",
    "plt.figure(figsize=(10, 8))\n",
    "sns.heatmap(data=cm_test, annot=True, fmt='d', annot_kws={'size': 30}, cmap='Blues')\n",
    "plt.xticks(ticks=[0.5,1.5], labels=[1,0], size=15)\n",
    "plt.yticks(ticks=[0.5,1.5], labels=[1,0], size=15)\n",
    "plt.xlabel('Predicted', size=20)\n",
    "plt.ylabel('True', size=20)\n",
    "plt.show()"
   ]
  },
  {
   "cell_type": "markdown",
   "metadata": {},
   "source": [
    "### 학습된 MLP Classifier 성능 평가: Training Data"
   ]
  },
  {
   "cell_type": "code",
   "execution_count": null,
   "metadata": {},
   "outputs": [],
   "source": [
    "train_acc = accuracy_score('''Answer''', '''Answer''')\n",
    "train_rec = recall_score('''Answer''', '''Answer''')\n",
    "train_prec = precision_score('''Answer''', '''Answer''')\n",
    "train_f1 = f1_score('''Answer''', '''Answer''')\n",
    "\n",
    "\n",
    "print('Train Accuracy   : {:.3f}'.format(train_acc))\n",
    "print('Train Sensitivity: {:.3f}'.format(train_rec))\n",
    "print('Train Precision  : {:.3f}'.format(train_prec))\n",
    "print('Train F1 Score   : {:.3f}'.format(train_f1))"
   ]
  },
  {
   "cell_type": "markdown",
   "metadata": {},
   "source": [
    "### 학습된 MLP Classifier 성능 평가: Testing Data"
   ]
  },
  {
   "cell_type": "code",
   "execution_count": null,
   "metadata": {},
   "outputs": [],
   "source": [
    "test_acc = accuracy_score('''Answer''', '''Answer''')\n",
    "test_rec = recall_score('''Answer''', '''Answer''')\n",
    "test_prec = precision_score('''Answer''', '''Answer''')\n",
    "test_f1 = f1_score('''Answer''', '''Answer''')\n",
    "\n",
    "print('Test Accuracy   : {:.3f}'.format(test_acc))\n",
    "print('Test Recall     : {:.3f}'.format(test_rec))\n",
    "print('Test Precision  : {:.3f}'.format(test_prec))\n",
    "print('Test F1 Score   : {:.3f}'.format(test_f1))"
   ]
  }
 ],
 "metadata": {
  "kernelspec": {
   "display_name": "Python 3",
   "language": "python",
   "name": "python3"
  },
  "language_info": {
   "codemirror_mode": {
    "name": "ipython",
    "version": 3
   },
   "file_extension": ".py",
   "mimetype": "text/x-python",
   "name": "python",
   "nbconvert_exporter": "python",
   "pygments_lexer": "ipython3",
   "version": "3.7.10"
  }
 },
 "nbformat": 4,
 "nbformat_minor": 4
}
